{
 "cells": [
  {
   "cell_type": "code",
   "execution_count": 1,
   "metadata": {},
   "outputs": [],
   "source": [
    "import configparser\n",
    "import os\n",
    "\n",
    "import chromadb\n",
    "from langchain.chains.query_constructor.schema import AttributeInfo\n",
    "from langchain_community.document_loaders.csv_loader import CSVLoader\n",
    "from langchain_community.document_loaders.directory import DirectoryLoader\n",
    "from langchain.docstore.in_memory import InMemoryDocstore\n",
    "from langchain.text_splitter import RecursiveCharacterTextSplitter\n",
    "from langchain_openai import OpenAIEmbeddings\n",
    "from langchain.embeddings.base import Embeddings\n",
    "from langchain.vectorstores import Chroma\n",
    "from langchain.retrievers.self_query.base import SelfQueryRetriever\n",
    "from langchain.chains.query_constructor.base import AttributeInfo\n",
    "from langchain.docstore.document import Document\n",
    "from langchain_openai import OpenAI\n",
    "from langchain.chains.query_constructor.base import load_query_constructor_chain\n",
    "from langchain.chains import RetrievalQA, combine_documents\n",
    "\n",
    "import pandas as pd \n",
    "\n"
   ]
  },
  {
   "cell_type": "code",
   "execution_count": 3,
   "metadata": {},
   "outputs": [
    {
     "data": {
      "text/plain": [
       "pandas.core.series.Series"
      ]
     },
     "execution_count": 3,
     "metadata": {},
     "output_type": "execute_result"
    },
    {
     "ename": "",
     "evalue": "",
     "output_type": "error",
     "traceback": [
      "\u001b[1;31mThe Kernel crashed while executing code in the current cell or a previous cell. \n",
      "\u001b[1;31mPlease review the code in the cell(s) to identify a possible cause of the failure. \n",
      "\u001b[1;31mClick <a href='https://aka.ms/vscodeJupyterKernelCrash'>here</a> for more info. \n",
      "\u001b[1;31mView Jupyter <a href='command:jupyter.viewOutput'>log</a> for further details."
     ]
    }
   ],
   "source": [
    "probes_df = pd.read_csv('../data/Catalog - Probes.csv')\n",
    "probes_df.fillna(\"\", inplace=True)\n",
    "probes_df.drop(columns=['Description'], inplace=True)\n",
    "probes_df['Compatible_Systems'] = probes_df['Compatible_Systems'].apply(lambda x: [system.strip() for system in x.split(',')])\n",
    "type(probes_df['Compatible_Systems'])\n",
    "\n"
   ]
  },
  {
   "cell_type": "code",
   "execution_count": 19,
   "metadata": {},
   "outputs": [],
   "source": [
    "def get_openai_key():\n",
    "    config = configparser.ConfigParser()\n",
    "    config.read('config.ini')\n",
    "    api_key = config['DEFAULT']['OpenAI_API_Key']\n",
    "    return api_key\n",
    "\n",
    "def initialize_openai_embeddings():\n",
    "    # Load the OpenAI embeddings\n",
    "    api_key = get_openai_key()\n",
    "    openai_embeddings = OpenAIEmbeddings(api_key=api_key, model=\"text-embedding-3-large\")\n",
    "\n",
    "    # Define a custom Embeddings class\n",
    "    class CustomEmbeddings(Embeddings):\n",
    "        openai_embeddings: OpenAIEmbeddings  # Define the openai_embeddings field\n",
    "\n",
    "        def __init__(self, openai_embeddings):\n",
    "            self.openai_embeddings = openai_embeddings\n",
    "\n",
    "        def embed_documents(self, texts):\n",
    "            return self.openai_embeddings.embed_documents(texts)\n",
    "\n",
    "        def embed_query(self, text):\n",
    "            return self.openai_embeddings.embed_query(text)\n",
    "\n",
    "    # Create an instance of the custom Embeddings class\n",
    "    embeddings = CustomEmbeddings(openai_embeddings)\n",
    "\n",
    "    return embeddings"
   ]
  },
  {
   "cell_type": "code",
   "execution_count": 20,
   "metadata": {},
   "outputs": [],
   "source": [
    "probes_df = pd.read_csv('../data/Catalog - Probes.csv')\n",
    "probes_df.fillna(\"\", inplace=True)\n",
    "\n",
    "# Create a list of Document objects\n",
    "documents = []\n",
    "for index, row in probes_df.iterrows():\n",
    "    # Ensure page_content is a string, replace NaN with an empty string\n",
    "    page_content = str(row['Description']) if pd.notna(row['Description']) else \"\"\n",
    "    \n",
    "    metadata = {\n",
    "        \"Manufacturer\": row['Manufacturer'],\n",
    "        \"Probe_Model\": row['Probe_Model'],\n",
    "        \"Connection_Type\": row['Connection_Type'],\n",
    "        \"Compatible_Systems\": str(row['Compatible_Systems'].split(', ')),\n",
    "        \"Array_Type\": row['Array_Type'],\n",
    "        \"Frequency_Range\": row['Frequency_Range'],\n",
    "        \"Applications\": str(row['Applications'].split(', ')), \n",
    "        \"Stock\": row['Stock']\n",
    "    }\n",
    "    \n",
    "    document = Document(page_content=page_content, metadata=metadata)\n",
    "    documents.append(document)"
   ]
  },
  {
   "cell_type": "code",
   "execution_count": 21,
   "metadata": {},
   "outputs": [],
   "source": [
    "# Initialize OpenAI embeddings\n",
    "embeddings = OpenAIEmbeddings(model=\"text-embedding-3-large\", api_key=get_openai_key())\n",
    "\n",
    "# Create the Chroma vector store\n",
    "vectorstore = Chroma.from_documents(documents, embeddings)"
   ]
  },
  {
   "cell_type": "code",
   "execution_count": 44,
   "metadata": {},
   "outputs": [],
   "source": [
    "metadata_field_info = [\n",
    "    AttributeInfo(name=\"Manufacturer\", description=\"The company or brand that manufactured the ultrasound probe.\", type=\"string\"),\n",
    "    AttributeInfo(name=\"Probe_Model\", description=\"The model name of the specific ultrasound probe.\", type=\"string\"),\n",
    "    AttributeInfo(name=\"Connection_Type\", description=\"The type of connector or port used to connect the probe to the ultrasound system and differentiate probes with the same model name and manufacturer.\", type=\"string\"),\n",
    "    AttributeInfo(name=\"Compatible_Systems\", description=\"Ultrasound systems that work with the specific probe model. These ultrasound machines are made by the same manufacturer of the probes they are compatible with.\", type=\"string\"),\n",
    "    AttributeInfo(name=\"Array_Type\", description=\"The array type of the probe which refers to the configuration and arrangement of crystals within the probe that affect how the ultrasound beam is shaped, steered, and focused.\", type=\"string\"),\n",
    "    AttributeInfo(name=\"Frequency_Range\", description=\"The range of frequencies (measured in MHz) at which the probe can operate to produce ultrasound waves. Higher frequencies provide higher resolution images and are ideal for visualizing small, superficial structures, however, they cannot visualize deep tissues effectively. Lower frequencies provide deeper penetration to reach deeper tissues and structures.\", type=\"string\"),\n",
    "    AttributeInfo(name=\"Stock\", description=\"The number of units of the specific probe model that are currently in stock or available for sale.\", type=\"string\")\n",
    "]\n",
    "\n",
    "# Initialize the LLM\n",
    "llm = OpenAI(temperature=.2, \n",
    "             openai_api_key=get_openai_key(),\n",
    "             model=\"gpt-3.5-turbo-instruct\"\n",
    "             )\n",
    "\n",
    "document_content_description = \"A summary of the ultrasound probe/transducer that contains information about the maker/manufacturer, model, compatible systems, array type, frequency ranges, and application.\"\n",
    "\n",
    "search_kwargs = {\n",
    "    'top_k': 5,  # Limit the number of results to the top 5\n",
    "    'threshold': 0.8  # Only consider results with a similarity score above 0.8\n",
    "}\n",
    "\n",
    "sq_retriever = SelfQueryRetriever.from_llm(\n",
    "    llm=llm, \n",
    "    vectorstore=vectorstore, \n",
    "    document_contents=document_content_description, \n",
    "    metadata_field_info=metadata_field_info,\n",
    "    verbose=True\n",
    ")\n",
    "\n"
   ]
  },
  {
   "cell_type": "code",
   "execution_count": 50,
   "metadata": {},
   "outputs": [
    {
     "name": "stdout",
     "output_type": "stream",
     "text": [
      "Query:\n",
      " What are the compatible systems for the ATL C5-2 probe?\n",
      "Response:\n",
      "  The compatible systems for the ATL C5-2 probe are the HDI 1500, HDI 3000, HDI 3500, and HDI 5000.\n",
      "\n",
      "Query:\n",
      " What systems does the ATL C5-2 probe work with?\n",
      "Response:\n",
      "  The ATL C5-2 probe works with ultrasound systems.\n",
      "\n",
      "The ATL C5-2 probe is a medical device used for ultrasound imaging. It is a type of transducer, which is a device that converts one form of energy into another. In this case, the probe converts electrical energy into sound waves that are used to create images of the body.\n",
      "\n",
      "Answer: The ATL C5-2 probe works with ultrasound systems.\n",
      "\n",
      "Query:\n",
      " What systems are the ATL C5-2 probe compatible with?\n",
      "Response:\n",
      "  The ATL C5-2 probe is compatible with ATL ultrasound systems.\n",
      "\n",
      "I don't know.\n",
      "\n"
     ]
    }
   ],
   "source": [
    "def ask_chatbot(query):\n",
    "    qa = RetrievalQA.from_chain_type(\n",
    "        llm=llm,\n",
    "        chain_type=\"stuff\",\n",
    "        retriever=sq_retriever,\n",
    "        return_source_documents=False,\n",
    "    )\n",
    "\n",
    "    result = qa.invoke(query)\n",
    "    print(f\"Query:\\n {query}\\nResponse:\\n {result['result']}\\n\")\n",
    "\n",
    "ask_chatbot(\"What are the compatible systems for the ATL C5-2 probe?\")\n",
    "\n",
    "ask_chatbot(\"What systems does the ATL C5-2 probe work with?\")\n",
    "\n",
    "ask_chatbot(\"What systems are the ATL C5-2 probe compatible with?\")\n",
    "\n"
   ]
  },
  {
   "cell_type": "code",
   "execution_count": 49,
   "metadata": {},
   "outputs": [
    {
     "name": "stdout",
     "output_type": "stream",
     "text": [
      "Query:\n",
      " What are the compatible systems for the ATL C5-2 probe?\n",
      "\n",
      "Response:\n",
      "  The compatible systems for the ATL C5-2 probe are the HDI 1500, HDI 3000, HDI 3500, and HDI 5000.\n",
      "Query:\n",
      " What systems does the ATL C5-2 probe work with?\n",
      "\n",
      "Response:\n",
      "  The ATL C5-2 probe works with ATL ultrasound systems.\n",
      "\n",
      "\n",
      "I don't know.\n"
     ]
    }
   ],
   "source": [
    "ask_chatbot(\"What are the compatible systems for the ATL C5-2 probe?\")\n",
    "\n",
    "ask_chatbot(\"What systems does the ATL C5-2 probe work with?\")"
   ]
  },
  {
   "cell_type": "code",
   "execution_count": 31,
   "metadata": {},
   "outputs": [
    {
     "name": "stdout",
     "output_type": "stream",
     "text": [
      "Query:\n",
      " What type of probe is the C5-2?\n",
      "\n",
      "Response:\n",
      "  The C5-2 is a convex array probe.\n"
     ]
    }
   ],
   "source": [
    "ask_chatbot(\"What type of probe is the C5-2?\")"
   ]
  },
  {
   "cell_type": "code",
   "execution_count": 15,
   "metadata": {},
   "outputs": [
    {
     "name": "stdout",
     "output_type": "stream",
     "text": [
      "Query:\n",
      " What company makes the C5-2 probe?\n",
      "\n",
      "Response:\n",
      "  Philips\n"
     ]
    }
   ],
   "source": [
    "ask_chatbot(\"What company makes the C5-2 probe?\")"
   ]
  },
  {
   "cell_type": "code",
   "execution_count": 28,
   "metadata": {},
   "outputs": [
    {
     "name": "stdout",
     "output_type": "stream",
     "text": [
      "Query:\n",
      " What models are compatible with iE 33?\n",
      "\n",
      "Response:\n",
      "  The Philips S4-2 and the Philips L15-7io are both compatible with the iE33 ultrasound system.\n"
     ]
    }
   ],
   "source": [
    "ask_chatbot(\"What models are compatible with iE 33?\")"
   ]
  },
  {
   "cell_type": "code",
   "execution_count": 30,
   "metadata": {},
   "outputs": [
    {
     "name": "stdout",
     "output_type": "stream",
     "text": [
      "Query:\n",
      " Which linear probes are compatible with iE 33?\n",
      "\n",
      "Response:\n",
      " \n",
      "\n",
      "I don't know.\n"
     ]
    }
   ],
   "source": [
    "# False query\n",
    "ask_chatbot(\"Which linear probes are compatible with iE 33?\")"
   ]
  },
  {
   "cell_type": "code",
   "execution_count": 26,
   "metadata": {},
   "outputs": [
    {
     "name": "stdout",
     "output_type": "stream",
     "text": [
      "Query:\n",
      " What probe models are compatible with LOGIQ 700?\n",
      "\n",
      "Response:\n",
      " \n",
      "The LOGIQ 700 is compatible with a variety of probe models, including linear, convex, phased array, and endocavity probes.\n"
     ]
    }
   ],
   "source": [
    "ask_chatbot(\"What probe models are compatible with LOGIQ 700?\")"
   ]
  },
  {
   "cell_type": "code",
   "execution_count": 37,
   "metadata": {},
   "outputs": [
    {
     "name": "stdout",
     "output_type": "stream",
     "text": [
      "Query:\n",
      " Do you have any C5-1 probes in stock?\n",
      "\n",
      "Response:\n",
      "  I don't know.\n"
     ]
    }
   ],
   "source": [
    "ask_chatbot(\"Do you have any C5-1 probes in stock?\")\n",
    "\n"
   ]
  },
  {
   "cell_type": "code",
   "execution_count": 38,
   "metadata": {},
   "outputs": [
    {
     "name": "stdout",
     "output_type": "stream",
     "text": [
      "Query:\n",
      " How many C5-1 probes in stock?\n",
      "\n",
      "Response:\n",
      "  I do not have enough information to answer this question. The context provided does not mention the number of C5-1 probes in stock.\n"
     ]
    }
   ],
   "source": [
    "ask_chatbot(\"How many C5-1 probes in stock?\")"
   ]
  },
  {
   "cell_type": "code",
   "execution_count": 45,
   "metadata": {},
   "outputs": [
    {
     "name": "stdout",
     "output_type": "stream",
     "text": [
      "Query:\n",
      " How many number of units of C5-1 probes in stock or available for sale?\n",
      "\n",
      "Response:\n",
      "  I do not have access to information about the current stock or availability of C5-1 probes. This information would need to be obtained from a Philips representative or authorized distributor.\n"
     ]
    }
   ],
   "source": [
    "ask_chatbot(\"How many number of units of C5-1 probes in stock or available for sale?\") "
   ]
  },
  {
   "cell_type": "code",
   "execution_count": 43,
   "metadata": {},
   "outputs": [
    {
     "name": "stdout",
     "output_type": "stream",
     "text": [
      "Query:\n",
      " Who makes the C5-1 probe?\n",
      "\n",
      "Response:\n",
      "  Philips\n",
      "Query:\n",
      " Who makes the C5-1 transducer?\n",
      "\n",
      "Response:\n",
      "  The Philips C5-1 transducer is made by Philips.\n",
      "Query:\n",
      " Who makes the ATL C5-1 probe?\n",
      "\n",
      "Response:\n",
      "  The manufacturer of the ATL C5-1 probe is ATL Ultrasound.\n",
      "\n",
      "I don't know.\n"
     ]
    }
   ],
   "source": [
    "ask_chatbot(\"Who makes the C5-1 probe?\")\n",
    "ask_chatbot(\"Who makes the C5-1 transducer?\")\n",
    "ask_chatbot(\"Who makes the ATL C5-1 probe?\")\n"
   ]
  },
  {
   "cell_type": "code",
   "execution_count": null,
   "metadata": {},
   "outputs": [],
   "source": []
  }
 ],
 "metadata": {
  "kernelspec": {
   "display_name": "chatbot",
   "language": "python",
   "name": "python3"
  },
  "language_info": {
   "codemirror_mode": {
    "name": "ipython",
    "version": 3
   },
   "file_extension": ".py",
   "mimetype": "text/x-python",
   "name": "python",
   "nbconvert_exporter": "python",
   "pygments_lexer": "ipython3",
   "version": "3.11.9"
  }
 },
 "nbformat": 4,
 "nbformat_minor": 2
}
